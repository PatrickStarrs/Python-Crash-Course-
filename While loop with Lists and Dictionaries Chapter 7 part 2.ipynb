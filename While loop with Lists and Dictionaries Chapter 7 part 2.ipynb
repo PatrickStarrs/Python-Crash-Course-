{
 "cells": [
  {
   "cell_type": "code",
   "execution_count": 3,
   "metadata": {},
   "outputs": [
    {
     "name": "stdout",
     "output_type": "stream",
     "text": [
      "Verifying user: Candace\n",
      "Verifying user: Brian\n",
      "Verifying user: Alice\n",
      "\n",
      "The following users have been confirmed:\n",
      "Candace\n",
      "Brian\n",
      "Alice\n"
     ]
    }
   ],
   "source": [
    "# Moving items from one list to another\n",
    "\n",
    "unconfirmed_users = ['Alice', 'brian', 'candace'] #begin with list of unconfirmed users\n",
    "confirmed_users = []\n",
    "\n",
    "while unconfirmed_users: \n",
    "    current_user = unconfirmed_users.pop()#the pop func. takes users one at a time from the unconfirmed_user list\n",
    "    \n",
    "    print(\"Verifying user: \" + current_user.title())\n",
    "    confirmed_users.append(current_user)\n",
    "print(\"\\nThe following users have been confirmed:\")\n",
    "for confirmed_user in confirmed_users:\n",
    "    print(confirmed_user.title())"
   ]
  },
  {
   "cell_type": "code",
   "execution_count": 5,
   "metadata": {},
   "outputs": [
    {
     "name": "stdout",
     "output_type": "stream",
     "text": [
      "['dog,', 'cat', 'lizard', 'cat', 'goldfish', 'rabbit']\n",
      "['dog,', 'lizard', 'goldfish', 'rabbit']\n"
     ]
    }
   ],
   "source": [
    "# Removing all instances of specific values from a list\n",
    "pets = ['dog,' ,'cat', 'lizard', 'cat', 'goldfish', 'rabbit']\n",
    "print(pets)\n",
    "\n",
    "while 'cat' in pets: # the while loop continues to loop while cat is present in the list. .remove removes it from list\n",
    "    pets.remove('cat')\n",
    "print(pets)"
   ]
  },
  {
   "cell_type": "code",
   "execution_count": 7,
   "metadata": {},
   "outputs": [
    {
     "name": "stdout",
     "output_type": "stream",
     "text": [
      "\n",
      "What is your name? Pat\n",
      "\n",
      "Which mountain would you like to climb someday? Denali\n",
      "Would you like another person to respond? (yes/ no) yes\n",
      "\n",
      "What is your name? Lisa\n",
      "\n",
      "Which mountain would you like to climb someday? Devil's Peak\n",
      "Would you like another person to respond? (yes/ no) no\n",
      "\n",
      "--- Poll Results ---\n",
      "Pat would like to climb Denali.\n",
      "Lisa would like to climb Devil's Peak.\n"
     ]
    }
   ],
   "source": [
    "# Filling a dictionary with user input #\n",
    "\n",
    "responses = {} # defines empty dict\n",
    "\n",
    "polling_active = True # sets flag. While true, the while loop with run\n",
    "\n",
    "while polling_active:\n",
    "    name = input(\"\\nWhat is your name? \")\n",
    "    response = input(\"\\nWhich mountain would you like to climb someday? \")\n",
    "    \n",
    "    responses[name] = response # saves the name as an index to the variable entered for response \n",
    "    \n",
    "    repeat = input(\"Would you like another person to respond? (yes/ no) \")\n",
    "    \n",
    "    if repeat == 'no':\n",
    "        polling_active = False\n",
    "\n",
    "print (\"\\n--- Poll Results ---\")\n",
    "for name, response in responses.items():\n",
    "    print(name + \" would like to climb \" + response + \".\")\n"
   ]
  },
  {
   "cell_type": "code",
   "execution_count": 16,
   "metadata": {},
   "outputs": [
    {
     "name": "stdout",
     "output_type": "stream",
     "text": [
      "Making a Turkey\n",
      "Making a Ham\n",
      "Making a Pastrami\n",
      "Making a Pastrami\n",
      "Making a Pastrami\n",
      "Making a Cuban\n",
      "\n",
      "The following sandwiches have been made:\n",
      " I made a turkey sandwich.\n",
      " I made a ham sandwich.\n",
      " I made a pastrami sandwich.\n",
      " I made a pastrami sandwich.\n",
      " I made a pastrami sandwich.\n",
      " I made a cuban sandwich.\n"
     ]
    }
   ],
   "source": [
    "sandwich_orders = ['cuban', 'pastrami', 'pastrami', 'pastrami', 'ham', 'turkey']\n",
    "finished_sandwiches = []\n",
    "\n",
    "while sandwich_orders:\n",
    "    made_sandwich = sandwich_orders.pop()\n",
    "    \n",
    "    print(\"Making a \" + made_sandwich.title())\n",
    "    finished_sandwiches.append(made_sandwich)\n",
    "    \n",
    "print(\"\\nThe following sandwiches have been made:\")\n",
    "for sandwich in finished_sandwiches:\n",
    "    print(\" I made a \" + sandwich + \" sandwich.\")"
   ]
  },
  {
   "cell_type": "code",
   "execution_count": null,
   "metadata": {},
   "outputs": [],
   "source": []
  }
 ],
 "metadata": {
  "kernelspec": {
   "display_name": "Python 3",
   "language": "python",
   "name": "python3"
  },
  "language_info": {
   "codemirror_mode": {
    "name": "ipython",
    "version": 3
   },
   "file_extension": ".py",
   "mimetype": "text/x-python",
   "name": "python",
   "nbconvert_exporter": "python",
   "pygments_lexer": "ipython3",
   "version": "3.7.0"
  }
 },
 "nbformat": 4,
 "nbformat_minor": 2
}
