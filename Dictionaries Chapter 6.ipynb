{
 "cells": [
  {
   "cell_type": "code",
   "execution_count": 3,
   "metadata": {},
   "outputs": [
    {
     "name": "stdout",
     "output_type": "stream",
     "text": [
      "green\n",
      "5\n"
     ]
    }
   ],
   "source": [
    "#Dictionaries allow you to connect pieces of related information.\n",
    "\n",
    "alien_0 = {'color': 'green' , 'points': 5}\n",
    "print(alien_0['color'])\n",
    "print(alien_0['points'])"
   ]
  },
  {
   "cell_type": "code",
   "execution_count": null,
   "metadata": {},
   "outputs": [],
   "source": [
    "# a dictionary in Python is a collection of key-value pairs. Each key is connected to a value, and you can use that key\n",
    "# access that key's value. a dict can be a string, list, or even another dict\n",
    "# a key-value pair is a set of values associated with that key. every key is connected to its value by a colon.\n",
    "# individual key-value pairs are separated by a ,"
   ]
  },
  {
   "cell_type": "code",
   "execution_count": 6,
   "metadata": {},
   "outputs": [
    {
     "name": "stdout",
     "output_type": "stream",
     "text": [
      "green\n"
     ]
    }
   ],
   "source": [
    "# use brackets to specify the value to print for that particular value\n",
    "alien_0 = {'color': 'green'}\n",
    "print(alien_0['color'])"
   ]
  },
  {
   "cell_type": "code",
   "execution_count": 7,
   "metadata": {},
   "outputs": [
    {
     "name": "stdout",
     "output_type": "stream",
     "text": [
      "You just earned 5 points!\n"
     ]
    }
   ],
   "source": [
    "# once the dict is defined, a new variable, new_points is defined as the value associated with the key 'points' \n",
    "alien_0 = {'color': 'green', 'points': 5}\n",
    "new_points = alien_0['points']\n",
    "print(\"You just earned \" + str(new_points) + \" points!\")"
   ]
  },
  {
   "cell_type": "code",
   "execution_count": 8,
   "metadata": {},
   "outputs": [
    {
     "name": "stdout",
     "output_type": "stream",
     "text": [
      "{'color': 'green', 'points': 5}\n",
      "{'color': 'green', 'points': 5, 'x_position': 0, 'y_position': 25}\n"
     ]
    }
   ],
   "source": [
    "# dict are dynamic, and you can add key:value pairs at any time\n",
    "# to add a new key:value pair, use brackets to specify the value for the new key\n",
    "\n",
    "alien_0 = {'color': 'green' , 'points': 5}\n",
    "print(alien_0)\n",
    "\n",
    "alien_0['x_position'] = 0\n",
    "alien_0['y_position'] = 25\n",
    "print(alien_0)"
   ]
  },
  {
   "cell_type": "code",
   "execution_count": 9,
   "metadata": {},
   "outputs": [
    {
     "name": "stdout",
     "output_type": "stream",
     "text": [
      "{'color': 'green', 'points': 5}\n"
     ]
    }
   ],
   "source": [
    "# starting with an empty dictionary, and using the brackets to ammend the key and value\n",
    "alien_0 = {}\n",
    "alien_0['color'] = 'green'\n",
    "alien_0['points'] = 5\n",
    "print(alien_0)"
   ]
  },
  {
   "cell_type": "code",
   "execution_count": 10,
   "metadata": {},
   "outputs": [
    {
     "name": "stdout",
     "output_type": "stream",
     "text": [
      "The alien is green.\n",
      "The alien is now yellow.\n"
     ]
    }
   ],
   "source": [
    "# use brackets to change the value of a particular key\n",
    "alien_0 = {'color': 'green'}\n",
    "print(\"The alien is \" + alien_0['color'] + \".\")\n",
    "alien_0['color'] = 'yellow'\n",
    "print(\"The alien is now \" + alien_0['color'] + \".\")"
   ]
  },
  {
   "cell_type": "code",
   "execution_count": 12,
   "metadata": {},
   "outputs": [
    {
     "name": "stdout",
     "output_type": "stream",
     "text": [
      "Original x-position: 0\n",
      "New x-position: 2\n"
     ]
    }
   ],
   "source": [
    "\n",
    "# sets a key/value for x, y position and speed. Uses if-elif-else to determine where the speed key == medium\n",
    "# assigns a new value x_increment = 2. \n",
    "\n",
    "alien_0 = {'x_position': 0, 'y_position': 25, 'speed': 'medium'}\n",
    "print(\"Original x-position: \" + str(alien_0['x_position']))\n",
    "# Move the alien to the right.\n",
    "# Determine how far to move the alien based on its current speed.\n",
    "if alien_0['speed'] == 'slow':\n",
    "    x_increment = 1\n",
    "elif alien_0['speed'] == 'medium':\n",
    "    x_increment = 2\n",
    "else:\n",
    "# This must be a fast alien.\n",
    "    x_increment = 3\n",
    "# The new position is the old position plus the increment.\n",
    "alien_0['x_position'] = alien_0['x_position'] + x_increment\n",
    "print(\"New x-position: \" + str(alien_0['x_position']))"
   ]
  },
  {
   "cell_type": "code",
   "execution_count": 13,
   "metadata": {},
   "outputs": [
    {
     "name": "stdout",
     "output_type": "stream",
     "text": [
      "{'color': 'green', 'points': 5}\n",
      "{'color': 'green'}\n"
     ]
    }
   ],
   "source": [
    "# use the del statment to remove a key-value pair. Needs the name of the dict and the key you want to remove. \n",
    "alien_0 = {'color': 'green', 'points': 5}\n",
    "print(alien_0)\n",
    "del alien_0['points']\n",
    "print(alien_0)"
   ]
  },
  {
   "cell_type": "code",
   "execution_count": 19,
   "metadata": {},
   "outputs": [
    {
     "name": "stdout",
     "output_type": "stream",
     "text": [
      "Pat's favoruite language is Ruby.\n"
     ]
    }
   ],
   "source": [
    "# when you need more than one line for a dict, use ENTER to indent subsequent lines\n",
    "# use the + when you need to break up a print statement into multiple lines \n",
    "favorite_languages = {\n",
    "    'jen': 'python',\n",
    "    'pat': 'Ruby',\n",
    "    'sarah': 'C',\n",
    "    'phil': 'python'\n",
    "    }\n",
    "print(\"Pat's favoruite language is \" + \n",
    "      favorite_languages['pat'].title() + \".\")"
   ]
  },
  {
   "cell_type": "code",
   "execution_count": 21,
   "metadata": {},
   "outputs": [
    {
     "name": "stdout",
     "output_type": "stream",
     "text": [
      "\n",
      "Key: username\n",
      "Value: efermi\n",
      "\n",
      "Key: first\n",
      "Value: enrico\n",
      "\n",
      "Key: last\n",
      "Value: fermi\n"
     ]
    }
   ],
   "source": [
    "# you can loop through all of a dict's key-value pairs, through its keys or its values\n",
    "# loops through the dic and prints the key-value. Note: the key, value in the for loop can be any name you choose. \n",
    "# notice that python does not return the key-value pairs in the order in they are stored. \n",
    "user_0 = {\n",
    "'username': 'efermi',\n",
    "'first': 'enrico',\n",
    "'last': 'fermi',\n",
    "}\n",
    "\n",
    "for key, value in user_0.items():\n",
    "    print(\"\\nKey: \" + key)\n",
    "    print(\"Value: \" + value)\n"
   ]
  },
  {
   "cell_type": "code",
   "execution_count": 23,
   "metadata": {},
   "outputs": [
    {
     "name": "stdout",
     "output_type": "stream",
     "text": [
      "Jen's favorite language is Python.\n",
      "Pat's favorite language is Ruby.\n",
      "Sarah's favorite language is C.\n",
      "Phil's favorite language is Python.\n"
     ]
    }
   ],
   "source": [
    "# .items() returns a view object that displays a list of dict key/value pair\n",
    "favorite_languages = {\n",
    "    'jen': 'python',\n",
    "    'pat': 'Ruby',\n",
    "    'sarah': 'C',\n",
    "    'phil': 'python'\n",
    "    }\n",
    "for name, language in favorite_languages.items():\n",
    "    print(name.title() + \"'s favorite language is \" +\n",
    "        language.title() + \".\")"
   ]
  },
  {
   "cell_type": "code",
   "execution_count": 24,
   "metadata": {},
   "outputs": [
    {
     "name": "stdout",
     "output_type": "stream",
     "text": [
      "Jen\n",
      "Pat\n",
      "Sarah\n",
      "Phil\n"
     ]
    }
   ],
   "source": [
    "# the keys() method allows you to pull the keys of a dict without the value\n",
    "favorite_languages = {\n",
    "    'jen': 'python',\n",
    "    'pat': 'Ruby',\n",
    "    'sarah': 'C',\n",
    "    'phil': 'python'\n",
    "    }\n",
    "for name in favorite_languages.keys():\n",
    "    print(name.title())\n",
    "\n",
    "# looping through the keys is the default behavior when looping through a dict.\n",
    "#for name in favorite_languages: would give you the same output"
   ]
  },
  {
   "cell_type": "code",
   "execution_count": 25,
   "metadata": {},
   "outputs": [
    {
     "name": "stdout",
     "output_type": "stream",
     "text": [
      "Jen\n",
      "Pat\n",
      "Sarah\n",
      " Hi Sarah, I see your favorite language is C!\n",
      "Phil\n",
      " Hi Phil, I see your favorite language is Python!\n"
     ]
    }
   ],
   "source": [
    "favorite_languages = {\n",
    "    'jen': 'python',\n",
    "    'pat': 'Ruby',\n",
    "    'sarah': 'C',\n",
    "    'phil': 'python'\n",
    "    }\n",
    "friends = ['phil', 'sarah']\n",
    "for name in favorite_languages.keys():\n",
    "    print(name.title())\n",
    "    \n",
    "    if name in friends:\n",
    "        print(\" Hi \" + name.title() +\n",
    "             \", I see your favorite language is \" +\n",
    "             favorite_languages[name].title() + \"!\")"
   ]
  },
  {
   "cell_type": "code",
   "execution_count": 28,
   "metadata": {},
   "outputs": [
    {
     "name": "stdout",
     "output_type": "stream",
     "text": [
      "Erin, please take our poll!\n"
     ]
    }
   ],
   "source": [
    "favorite_languages = {\n",
    "    'jen': 'python',\n",
    "    'pat': 'Ruby',\n",
    "    'sarah': 'C',\n",
    "    'phil': 'python'\n",
    "    }\n",
    "\n",
    "if 'erin' not in favorite_languages.keys():\n",
    "    print(\"Erin, please take our poll!\")"
   ]
  },
  {
   "cell_type": "code",
   "execution_count": 30,
   "metadata": {},
   "outputs": [
    {
     "name": "stdout",
     "output_type": "stream",
     "text": [
      "Jen, thank you for taking the poll.\n",
      "Pat, thank you for taking the poll.\n",
      "Phil, thank you for taking the poll.\n",
      "Sarah, thank you for taking the poll.\n"
     ]
    }
   ],
   "source": [
    "# you can use the sorted() function to get a copy of the keys in order \n",
    "\n",
    "favorite_languages = {\n",
    "    'jen': 'python',\n",
    "    'pat': 'Ruby',\n",
    "    'sarah': 'C',\n",
    "    'phil': 'python'\n",
    "    }\n",
    "\n",
    "for name in sorted(favorite_languages.keys()):\n",
    "    print(name.title() + \", thank you for taking the poll.\")"
   ]
  },
  {
   "cell_type": "code",
   "execution_count": 31,
   "metadata": {},
   "outputs": [
    {
     "name": "stdout",
     "output_type": "stream",
     "text": [
      "The following languages have been mentioned:\n",
      "Python\n",
      "Ruby\n",
      "C\n",
      "Python\n"
     ]
    }
   ],
   "source": [
    "# use the values() statement to return a list of values without the keys\n",
    "favorite_languages = {\n",
    "    'jen': 'python',\n",
    "    'pat': 'Ruby',\n",
    "    'sarah': 'C',\n",
    "    'phil': 'python'\n",
    "    }\n",
    "print(\"The following languages have been mentioned:\")\n",
    "for language in favorite_languages.values():\n",
    "    print(language.title())"
   ]
  },
  {
   "cell_type": "code",
   "execution_count": 33,
   "metadata": {},
   "outputs": [
    {
     "name": "stdout",
     "output_type": "stream",
     "text": [
      "Ruby\n",
      "Python\n",
      "C\n"
     ]
    }
   ],
   "source": [
    "#this works well, but in cases of duplicates, you wrap set() arond a list with duplicate items. \n",
    "# python nuiltys a set from the unique items in that list \n",
    "for language in set(favorite_languages.values()):\n",
    "    print(language.title())"
   ]
  },
  {
   "cell_type": "code",
   "execution_count": 34,
   "metadata": {},
   "outputs": [
    {
     "name": "stdout",
     "output_type": "stream",
     "text": [
      "{'color': 'green', 'points': 5}\n",
      "{'color': 'yellow', 'points': 10}\n",
      "{'color': 'red', 'points': 15}\n"
     ]
    }
   ],
   "source": [
    "### A LIST OF DICTIONAIRES ###\n",
    "\n",
    "# Nesting allows you to store a set of dict in a list or a list of items as a value in a dict\n",
    "# you can nest a set of dict inside a list, a list of items inside a dict, or even a dict inside another dict\n",
    "\n",
    "# creates 3 dicts, and nest them into a list called aliens \n",
    "alien_0 = {'color': 'green', 'points': 5}\n",
    "alien_1 = {'color': 'yellow', 'points': 10}\n",
    "alien_2 = {'color': 'red', 'points': 15}\n",
    "\n",
    "aliens = [alien_0, alien_1, alien_2]\n",
    "for alien in aliens:\n",
    "    print(alien)"
   ]
  },
  {
   "cell_type": "code",
   "execution_count": 36,
   "metadata": {},
   "outputs": [
    {
     "name": "stdout",
     "output_type": "stream",
     "text": [
      "{'color': 'green', 'points': 5, 'speed': 'slow'}\n",
      "{'color': 'green', 'points': 5, 'speed': 'slow'}\n",
      "{'color': 'green', 'points': 5, 'speed': 'slow'}\n",
      "{'color': 'green', 'points': 5, 'speed': 'slow'}\n",
      "{'color': 'green', 'points': 5, 'speed': 'slow'}\n",
      "...\n",
      "Total number of aliens: 30\n"
     ]
    }
   ],
   "source": [
    "# Make an empty list for storing aliens.\n",
    "aliens = []\n",
    "# uses a the range to tell the loop to run 30 times\n",
    "for alien_number in range(30):\n",
    "    new_alien = {'color': 'green', 'points': 5, 'speed': 'slow'}\n",
    "# appents the new alien value to the blank list title aliens\n",
    "    aliens.append(new_alien)\n",
    "# Show the first 5 aliens:\n",
    "for alien in aliens[:5]:\n",
    "    print(alien)\n",
    "print(\"...\")\n",
    "# Show how many aliens have been created.\n",
    "print(\"Total number of aliens: \" + str(len(aliens)))"
   ]
  },
  {
   "cell_type": "code",
   "execution_count": 40,
   "metadata": {},
   "outputs": [
    {
     "name": "stdout",
     "output_type": "stream",
     "text": [
      "{'color': 'yellow', 'points': 10, 'speed': 'medium'}\n",
      "...\n",
      "{'color': 'yellow', 'points': 10, 'speed': 'medium'}\n",
      "...\n",
      "{'color': 'yellow', 'points': 10, 'speed': 'medium'}\n",
      "...\n",
      "{'color': 'green', 'points': 5, 'speed': 'slow'}\n",
      "...\n",
      "{'color': 'green', 'points': 5, 'speed': 'slow'}\n",
      "...\n"
     ]
    }
   ],
   "source": [
    "\n",
    "\n",
    "aliens = []\n",
    "for alien_number in range (0,30):\n",
    "    new_alien = {'color': 'green', 'points': 5, 'speed': 'slow'}\n",
    "    aliens.append(new_alien)\n",
    "\n",
    "# selects the first 3 aliens, checks if their color is green. If it is, it updates the color, speed, and points for those 3     \n",
    "for alien in aliens[0:3]:\n",
    "    if alien['color'] == 'green':\n",
    "        alien['color'] = 'yellow'\n",
    "        alien['speed'] = 'medium'\n",
    "        alien['points'] = 10\n",
    "for alien in aliens[0:5]:\n",
    "    print(alien)\n",
    "    print(\"...\")"
   ]
  },
  {
   "cell_type": "code",
   "execution_count": null,
   "metadata": {},
   "outputs": [],
   "source": [
    "#### A LIST IN A DICTIONARY ######"
   ]
  }
 ],
 "metadata": {
  "kernelspec": {
   "display_name": "Python 3",
   "language": "python",
   "name": "python3"
  },
  "language_info": {
   "codemirror_mode": {
    "name": "ipython",
    "version": 3
   },
   "file_extension": ".py",
   "mimetype": "text/x-python",
   "name": "python",
   "nbconvert_exporter": "python",
   "pygments_lexer": "ipython3",
   "version": "3.7.0"
  }
 },
 "nbformat": 4,
 "nbformat_minor": 2
}
