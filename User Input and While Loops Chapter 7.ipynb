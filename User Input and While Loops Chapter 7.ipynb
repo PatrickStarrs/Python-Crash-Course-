{
 "cells": [
  {
   "cell_type": "code",
   "execution_count": 1,
   "metadata": {},
   "outputs": [
    {
     "name": "stdout",
     "output_type": "stream",
     "text": [
      "Tell me something, and I will repeat it back to youCatdog!\n",
      "Catdog!\n"
     ]
    }
   ],
   "source": [
    "# the input() function pauses your program to wait for the user to entersome text. \n",
    "# once entered, it is stored as a variable\n",
    "\n",
    "message = input(\"Tell me something, and I will repeat it back to you\")\n",
    "print(message)"
   ]
  },
  {
   "cell_type": "code",
   "execution_count": 5,
   "metadata": {},
   "outputs": [
    {
     "name": "stdout",
     "output_type": "stream",
     "text": [
      "What is your name: Patrick\n",
      "Hello, Patrick How are you?\n"
     ]
    }
   ],
   "source": [
    "name = input(\"What is your name: \")\n",
    "print(\"Hello, \" + name + \" how are you?\")"
   ]
  },
  {
   "cell_type": "code",
   "execution_count": 7,
   "metadata": {},
   "outputs": [
    {
     "name": "stdout",
     "output_type": "stream",
     "text": [
      "If you tell us who you are, we can personalize the messages you see.\n",
      "What is your first name? Catdog\n",
      "\n",
      "Hello, Catdog!\n"
     ]
    }
   ],
   "source": [
    "# this creates the variable prompt, and then passes it along to the input function \n",
    "# the += operator takes the string stored as prompt and adds another sting to it\n",
    "prompt = \"If you tell us who you are, we can personalize the messages you see.\"\n",
    "prompt += \"\\nWhat is your first name? \"\n",
    "\n",
    "name = input(prompt)\n",
    "print(\"\\nHello, \" + name + \"!\")"
   ]
  },
  {
   "cell_type": "code",
   "execution_count": 8,
   "metadata": {},
   "outputs": [
    {
     "name": "stdout",
     "output_type": "stream",
     "text": [
      "How old are you?26\n"
     ]
    },
    {
     "data": {
      "text/plain": [
       "True"
      ]
     },
     "execution_count": 8,
     "metadata": {},
     "output_type": "execute_result"
    }
   ],
   "source": [
    "# input() interprets everything as a string. to convert the string to an integer, use int()\n",
    "age = input(\"How old are you?\")\n",
    "age = int(age)\n",
    "age >= 18"
   ]
  },
  {
   "cell_type": "code",
   "execution_count": 9,
   "metadata": {},
   "outputs": [
    {
     "name": "stdout",
     "output_type": "stream",
     "text": [
      "How tall are you, in inches? 45\n",
      "You are tall enought to ride!\n"
     ]
    }
   ],
   "source": [
    "height = input(\"How tall are you, in inches? \")\n",
    "height = int(height)\n",
    "\n",
    "if height >= 36:\n",
    "    print(\"You are tall enought to ride!\")\n",
    "else:\n",
    "    print(\"\\nYou'll be able to ride this ride when you're a little older.\")"
   ]
  },
  {
   "cell_type": "code",
   "execution_count": 10,
   "metadata": {},
   "outputs": [
    {
     "name": "stdout",
     "output_type": "stream",
     "text": [
      "Enter a number, and I'll tell you if it's even or odd: 47\n",
      "\n",
      " The number 47 is odd.\n"
     ]
    }
   ],
   "source": [
    "# The Modulo Operator (%) divides one number by another and returns the remainder\n",
    "#when a number is divisiable by another the remainder is 0. You can use this to determine if a number is even or odd\n",
    "\n",
    "number = input(\"Enter a number, and I'll tell you if it's even or odd: \")\n",
    "number = int(number)\n",
    "\n",
    "if number % 2 == 0:\n",
    "    print(\"\\n The number \" + str(number) + \" is even.\")\n",
    "else:\n",
    "    print(\"\\n The number \" + str(number) + \" is odd.\")"
   ]
  },
  {
   "cell_type": "code",
   "execution_count": 21,
   "metadata": {},
   "outputs": [
    {
     "name": "stdout",
     "output_type": "stream",
     "text": [
      "How many people will be eating today? 4\n",
      "Perfect, right this way!\n"
     ]
    }
   ],
   "source": [
    "seating = input(\"How many people will be eating today? \")\n",
    "seating = int(seating)\n",
    "\n",
    "if seating > 8:\n",
    "    print(\"Sorry, you'll need to wait for a table.\")\n",
    "else:\n",
    "    print(\"Perfect, right this way!\")"
   ]
  },
  {
   "cell_type": "code",
   "execution_count": 19,
   "metadata": {},
   "outputs": [
    {
     "name": "stdout",
     "output_type": "stream",
     "text": [
      "tell me a number, and I'll tell you if it is a multiple of 10.15\n",
      "\n",
      "The number 90 is a multiple of 10.\n"
     ]
    }
   ],
   "source": [
    "number = input(\"tell me a number, and I'll tell you if it is a multiple of 10.\")\n",
    "number = int(multiple)\n",
    "if number % 10 == 0:\n",
    "    print(\"\\nThe number \" + str(multiple) + \" is a multiple of 10.\")\n",
    "else:\n",
    "    print(\"\\nThe number \" + str(multiple) + \" is not a multiple of 10.\")"
   ]
  },
  {
   "cell_type": "code",
   "execution_count": null,
   "metadata": {},
   "outputs": [],
   "source": [
    "## While loops ##\n",
    "# for loop executes a block of code once for each item\n",
    "# while loops run as long a certain condition is true\n",
    "\n",
    "current_number = 1 #start counting from one\n",
    "while current_number <=5: #the while loop is set to run while the current number is less or equal to 5\n",
    "    print(current_number) \n",
    "    current_number += 1 # the code prints the current number, and then proceeds to add 1 more using the += op\n"
   ]
  },
  {
   "cell_type": "code",
   "execution_count": null,
   "metadata": {},
   "outputs": [
    {
     "name": "stderr",
     "output_type": "stream",
     "text": [
      "C:\\Users\\Pat\\Anaconda3\\lib\\site-packages\\ipykernel\\parentpoller.py:116: UserWarning: Parent poll failed.  If the frontend dies,\n",
      "                the kernel may be left running.  Please let us know\n",
      "                about your system (bitness, Python, etc.) at\n",
      "                ipython-dev@scipy.org\n",
      "  ipython-dev@scipy.org\"\"\")\n"
     ]
    }
   ],
   "source": [
    "prompt = \"\\nTell me something, and I will repeat it back to you:\"\n",
    "prompt = \"\\nEnter 'quit' to end the program.\"\n",
    "message = \"\"\n",
    "while message != 'quit':\n",
    "    message = input(prompt)\n",
    "    print(message)"
   ]
  },
  {
   "cell_type": "code",
   "execution_count": null,
   "metadata": {},
   "outputs": [],
   "source": [
    "# for a program that should only when multiple conditions are true, you can define a variable to \n",
    "# determine if an entire program is active. This variable is called a flag\n",
    "\n",
    "prompt = \"\\nTell me something, and I will repeat it back to you:\"\n",
    "prompt = \"\\nEnter 'quit' to end the program.\"\n",
    "\n",
    "active = True # set the variable active to True. as long as the variable remains true, the loop will run\n",
    "while active: \n",
    "    message = input(prompt)\n",
    "    \n",
    "    if message == 'quit': # if the user enters quit, active is set to false.\n",
    "        active = False\n",
    "    else:\n",
    "        print(message)"
   ]
  },
  {
   "cell_type": "code",
   "execution_count": null,
   "metadata": {},
   "outputs": [],
   "source": [
    "# to exit a while loop without running any remaining code, use the break statement\n",
    "\n",
    "question = \"\\nPlease enter the name of a city you have visited:\"\n",
    "question += \"\\n(Enter 'quit' when you are finished.)\"\n",
    "\n",
    "while True:\n",
    "    city = input(question)\n",
    "    \n",
    "    if city == 'quit':\n",
    "        break\n",
    "    else:\n",
    "        print(\"I'd love to go to \" + city.title() + \"!\")"
   ]
  },
  {
   "cell_type": "code",
   "execution_count": null,
   "metadata": {},
   "outputs": [],
   "source": [
    "# you can use the continue statement to return to the beginning of the loop based on the result of a test\n",
    "\n",
    "current_number = 0\n",
    "while current_number < 10:\n",
    "    current_number += 1\n",
    "    if current_number % 2 == 0:\n",
    "        continue\n",
    "    print(current_number)"
   ]
  },
  {
   "cell_type": "code",
   "execution_count": null,
   "metadata": {},
   "outputs": [],
   "source": []
  }
 ],
 "metadata": {
  "kernelspec": {
   "display_name": "Python 3",
   "language": "python",
   "name": "python3"
  },
  "language_info": {
   "codemirror_mode": {
    "name": "ipython",
    "version": 3
   },
   "file_extension": ".py",
   "mimetype": "text/x-python",
   "name": "python",
   "nbconvert_exporter": "python",
   "pygments_lexer": "ipython3",
   "version": "3.7.0"
  }
 },
 "nbformat": 4,
 "nbformat_minor": 2
}
