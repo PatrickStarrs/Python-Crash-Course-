{
 "cells": [
  {
   "cell_type": "code",
   "execution_count": null,
   "metadata": {},
   "outputs": [],
   "source": [
    "## Functions ##\n",
    "# Functions are named blocks of code that are designed to do one specific job\n",
    "# you can call upon a function so you do not need to re-write code\n",
    "\n"
   ]
  },
  {
   "cell_type": "code",
   "execution_count": 1,
   "metadata": {},
   "outputs": [
    {
     "name": "stdout",
     "output_type": "stream",
     "text": [
      "Hello\n"
     ]
    }
   ],
   "source": [
    "# Defining a Function #\n",
    "\n",
    "def greet_user(): # uses def to define the function. any indented lines that follow it is the body of the function\n",
    "    \"\"\"Display a simple greeting.\"\"\" # any comment in triple \" are docstrings, and describes what the function does\n",
    "    print(\"Hello\")# this is the actual line of code. \n",
    "\n",
    "greet_user()"
   ]
  },
  {
   "cell_type": "code",
   "execution_count": 7,
   "metadata": {},
   "outputs": [
    {
     "name": "stdout",
     "output_type": "stream",
     "text": [
      "Hello, Jesse!\n"
     ]
    }
   ],
   "source": [
    "# Passing info to a function #\n",
    "# by putting username in, you allow the function to accept any value of user name you specify\n",
    "\n",
    "def greet_user(username):\n",
    "    \"\"\"Display a simple greeting.\"\"\"\n",
    "    print(\"Hello, \" + username.title() + \"!\")\n",
    "\n",
    "greet_user('jesse')"
   ]
  },
  {
   "cell_type": "code",
   "execution_count": 8,
   "metadata": {},
   "outputs": [
    {
     "name": "stdout",
     "output_type": "stream",
     "text": [
      "I have learned about functions in python!\n"
     ]
    }
   ],
   "source": [
    "# Arguments and Parameters #\n",
    "# parameter is a piece of info a function needs for its job (above, username was the parameter)\n",
    "\n",
    "def display_message():\n",
    "    \"\"\"display what I've learned in this chapter so far.\"\"\"\n",
    "    print(\"I have learned about functions in python!\")\n",
    "display_message()"
   ]
  },
  {
   "cell_type": "code",
   "execution_count": 11,
   "metadata": {},
   "outputs": [
    {
     "name": "stdout",
     "output_type": "stream",
     "text": [
      "My favorite book is East Of Eden!\n"
     ]
    }
   ],
   "source": [
    "def favorite_book(title):\n",
    "    \"\"\"display my favorite book title\"\"\"\n",
    "    print(\"My favorite book is \" + title.title() + '!')\n",
    "favorite_book('east of eden')"
   ]
  },
  {
   "cell_type": "code",
   "execution_count": null,
   "metadata": {},
   "outputs": [],
   "source": [
    "## Passing Arguments ##\n",
    "\n",
    "# because a function can have multiple parameters, you may need multiple arguments \n",
    "\n",
    "# positional and keyword arguments are two types of arguments "
   ]
  },
  {
   "cell_type": "code",
   "execution_count": 17,
   "metadata": {},
   "outputs": [
    {
     "name": "stdout",
     "output_type": "stream",
     "text": [
      "\n",
      "I have a dog.\n",
      "My dog's name is Atticus.\n",
      "\n",
      "I have a cat.\n",
      "My cat's name is Oakey.\n"
     ]
    }
   ],
   "source": [
    "## Positional Arguments ##\n",
    "# when you call a function, Python must match each argument with a parameter \n",
    "\n",
    "def describe_pet(animal_type, pet_name): # this function needs an animal and pet name\n",
    "    \"\"\"Display info about a pet \"\"\"\n",
    "    print(\"\\nI have a \" + animal_type + \".\")\n",
    "    print(\"My \" + animal_type + \"'s name is \" + pet_name.title() + '.')\n",
    "describe_pet('dog', 'atticus') # the argument dog, and atticus are staored in the paramter animal type and pet name\n",
    "describe_pet('cat', 'Oakey')\n",
    "\n",
    "# you can call a function multiple times\n",
    "# order does matter, switching cat and Oakey around will display the wrong message \n"
   ]
  },
  {
   "cell_type": "code",
   "execution_count": 19,
   "metadata": {},
   "outputs": [
    {
     "name": "stdout",
     "output_type": "stream",
     "text": [
      "\n",
      "I have a dog.\n",
      "My dog's name is Atticus.\n"
     ]
    }
   ],
   "source": [
    "## Keyword Arguments ##\n",
    "# keyword argument is a name-value pair that you pass to a function\n",
    "\n",
    "def describe_pet(animal_type, pet_name): \n",
    "    \"\"\"Display info about a pet \"\"\"\n",
    "    print(\"\\nI have a \" + animal_type + \".\")\n",
    "    print(\"My \" + animal_type + \"'s name is \" + pet_name.title() + '.')\n",
    "describe_pet(pet_name= 'atticus', animal_type='dog')\n",
    "\n",
    "# order does not matter as you have defined the values"
   ]
  },
  {
   "cell_type": "code",
   "execution_count": null,
   "metadata": {},
   "outputs": [],
   "source": []
  }
 ],
 "metadata": {
  "kernelspec": {
   "display_name": "Python 3",
   "language": "python",
   "name": "python3"
  },
  "language_info": {
   "codemirror_mode": {
    "name": "ipython",
    "version": 3
   },
   "file_extension": ".py",
   "mimetype": "text/x-python",
   "name": "python",
   "nbconvert_exporter": "python",
   "pygments_lexer": "ipython3",
   "version": "3.7.0"
  }
 },
 "nbformat": 4,
 "nbformat_minor": 2
}
